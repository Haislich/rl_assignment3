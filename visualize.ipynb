{
 "cells": [
  {
   "cell_type": "code",
   "execution_count": null,
   "metadata": {},
   "outputs": [],
   "source": [
    "from torch.utils.tensorboard.writer import SummaryWriter\n",
    "import os\n",
    "\n",
    "# Path to your log directory\n",
    "log_dir = \"logs/vision\"\n",
    "\n",
    "# Ensure the log directory exists\n",
    "os.makedirs(log_dir, exist_ok=True)\n",
    "\n",
    "# Start TensorBoard in the notebook\n",
    "%load_ext tensorboard\n",
    "%tensorboard --logdir logs/vision\n"
   ]
  }
 ],
 "metadata": {
  "language_info": {
   "name": "python"
  }
 },
 "nbformat": 4,
 "nbformat_minor": 2
}
